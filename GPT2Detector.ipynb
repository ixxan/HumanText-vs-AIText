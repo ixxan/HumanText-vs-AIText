{
  "nbformat": 4,
  "nbformat_minor": 0,
  "metadata": {
    "colab": {
      "provenance": []
    },
    "kernelspec": {
      "name": "python3",
      "display_name": "Python 3"
    },
    "language_info": {
      "name": "python"
    }
  },
  "cells": [
    {
      "cell_type": "code",
      "source": [
        "# Ref: GPTZero API, https://huggingface.co/docs/transformers/perplexity, https://github.com/BurhanUlTayyab/DetectGPT"
      ],
      "metadata": {
        "id": "LtNbgsC4jWTz"
      },
      "execution_count": null,
      "outputs": []
    },
    {
      "cell_type": "code",
      "source": [
        "!pip -q install transformers==4.26.0"
      ],
      "metadata": {
        "id": "PLd0PIMxS4Nu"
      },
      "execution_count": null,
      "outputs": []
    },
    {
      "cell_type": "code",
      "execution_count": null,
      "metadata": {
        "id": "_afIu4d5L_ek"
      },
      "outputs": [],
      "source": [
        "from collections import OrderedDict\n",
        "import re\n",
        "import torch\n",
        "import statistics\n",
        "import numpy as np\n",
        "\n",
        "from transformers import GPT2LMHeadModel, GPT2TokenizerFast\n",
        "\n",
        "class Detector:\n",
        "  \"\"\"\n",
        "      The scoring model here is based on GPT-2\n",
        "\n",
        "      stride: number of tokens forward to move after each prediction. 1 for the most precise result,\n",
        "              but to reduce computation time, move by larger strides.\n",
        "\n",
        "      threshold: the classification threshold between human vs. AI\n",
        "    \"\"\"\n",
        "  def __init__(self, device=\"cuda\", stride = 100, threshold = 63.5):\n",
        "    self.device = device\n",
        "    self.stride = stride\n",
        "    self.threshold = threshold\n",
        "\n",
        "    self.model = GPT2LMHeadModel.from_pretrained(\"gpt2\").to(device)\n",
        "    self.tokenizer = GPT2TokenizerFast.from_pretrained(\"gpt2\")\n",
        "    self.max_length = self.model.config.n_positions\n",
        "\n",
        "  def run(self, sentence):\n",
        "    \"\"\"\n",
        "      Takes in a sentence split by full stop and print the perplexity of the total sentence\n",
        "      split the lines based on full stop and find the perplexity of each sentence\n",
        "      and print average perplexity\n",
        "\n",
        "      Burstiness is the max perplexity of each sentence\n",
        "    \"\"\"\n",
        "    results = OrderedDict()\n",
        "\n",
        "    lines = re.split(r'(?<=[.?!][ \\[\\(])|(?<=\\n)\\s*', sentence)\n",
        "    lines = list(filter(lambda x: (x is not None) and (len(x) > 0), lines))\n",
        "    lines = [l.strip() for l in lines]\n",
        "\n",
        "    # Compute of whole text\n",
        "    ppl, nll = self.compute_ppl(sentence)\n",
        "    results[\"Overall Perplexity\"] = ppl.item()\n",
        "\n",
        "    # Compute per sentence\n",
        "    offset = \"\"\n",
        "    ppl_per_line = []\n",
        "    nll_per_line = []\n",
        "    max_ppl = float('-inf')\n",
        "    max_ppl_line = \"\"\n",
        "    for i, line in enumerate(lines):\n",
        "        if re.search(\"[a-zA-Z0-9]+\", line) == None:\n",
        "            continue\n",
        "        if line == '':\n",
        "            continue\n",
        "        if len(offset) > 0:\n",
        "            line = offset + line\n",
        "            offset = \"\"\n",
        "        # remove the new line pr space in the first sentence if exists\n",
        "        if line[0] == \"\\n\" or line[0] == \" \":\n",
        "            line = line[1:]\n",
        "        if line[-1] == \"\\n\" or line[-1] == \" \":\n",
        "            line = line[:-1]\n",
        "        elif line[-1] == \"[\" or line[-1] == \"(\":\n",
        "            offset = line[-1]\n",
        "            line = line[:-1]\n",
        "\n",
        "        # compute ppl\n",
        "        ppl, nll = self.compute_ppl(line)\n",
        "        if not np.isnan(ppl).any() and not np.isnan(nll).any():\n",
        "          ppl_per_line.append(ppl)\n",
        "          nll_per_line.append(nll)\n",
        "          # print(line)\n",
        "          # print(ppl)\n",
        "          # print(nll)\n",
        "\n",
        "        # update max ppl\n",
        "        if ppl > max_ppl:\n",
        "          max_ppl = ppl\n",
        "          max_ppl_line = line\n",
        "    # update results\n",
        "    results[\"Average Perplexity Score\"] = (sum(ppl_per_line)/len(ppl_per_line)).item()\n",
        "    results[\"Average Log Likelihood\"] = (sum(nll_per_line)/len(nll_per_line)).item()\n",
        "    results[\"Max Perplexity\"] = max_ppl.item()\n",
        "    results[\"Max Perplexity Line\"] = max_ppl_line\n",
        "\n",
        "    # Copmute brustiness\n",
        "    ppl_vals = [tensor.item() for tensor in ppl_per_line]\n",
        "    results[\"Burstiness Score\"] = statistics.stdev(ppl_vals)\n",
        "\n",
        "    return results\n",
        "\n",
        "  def compute_ppl(self, sentence):\n",
        "    encodings = self.tokenizer(sentence, return_tensors=\"pt\")\n",
        "    seq_len = encodings.input_ids.size(1)\n",
        "\n",
        "    nlls = []\n",
        "    prev_end_loc = 0\n",
        "    for begin_loc in range(0, seq_len, self.stride):\n",
        "        end_loc = min(begin_loc + self.max_length, seq_len)\n",
        "        trg_len = end_loc - prev_end_loc\n",
        "        input_ids = encodings.input_ids[:, begin_loc:end_loc].to(self.device)\n",
        "        target_ids = input_ids.clone()\n",
        "        target_ids[:, :-trg_len] = -100\n",
        "\n",
        "        with torch.no_grad():\n",
        "            outputs = self.model(input_ids, labels=target_ids)\n",
        "            neg_log_likelihood = outputs.loss * trg_len\n",
        "\n",
        "        nlls.append(neg_log_likelihood)\n",
        "\n",
        "        prev_end_loc = end_loc\n",
        "        if end_loc == seq_len:\n",
        "            break\n",
        "    ppl = torch.exp(torch.stack(nlls).sum() / end_loc)\n",
        "    nll = -1 * torch.stack(nlls).sum() / end_loc\n",
        "    return ppl, nll\n",
        "\n",
        "  def classify(self, score):\n",
        "    if score < self.threshold:\n",
        "       return \"The Text is likely generated by AI.\"\n",
        "    else:\n",
        "      return \"The Text is likely written by Human.\""
      ]
    },
    {
      "cell_type": "code",
      "source": [],
      "metadata": {
        "id": "MF59ol_4L4b3"
      },
      "execution_count": null,
      "outputs": []
    },
    {
      "cell_type": "code",
      "source": [],
      "metadata": {
        "id": "_vaJwuk-L-Ou"
      },
      "execution_count": null,
      "outputs": []
    },
    {
      "cell_type": "code",
      "source": [
        "# Load data\n",
        "import pandas as pd\n",
        "df = pd.read_csv(\"/content/GPT-wiki-intro_500.csv\")\n",
        "df"
      ],
      "metadata": {
        "colab": {
          "base_uri": "https://localhost:8080/",
          "height": 1000
        },
        "id": "_daOU2tNpnaY",
        "outputId": "7861a2d4-320d-488b-b9b5-7d336e52b688"
      },
      "execution_count": null,
      "outputs": [
        {
          "output_type": "execute_result",
          "data": {
            "text/plain": [
              "     Unnamed: 0        id                                                url  \\\n",
              "0             0  63064638  https://en.wikipedia.org/wiki/Sexhow%20railway...   \n",
              "1             1    279621        https://en.wikipedia.org/wiki/Eti%C3%A4inen   \n",
              "2             2    287229  https://en.wikipedia.org/wiki/Inverse%20functi...   \n",
              "3             3  26712375  https://en.wikipedia.org/wiki/Stepping%20on%20...   \n",
              "4             4  38894426        https://en.wikipedia.org/wiki/Rob%20Bradley   \n",
              "..          ...       ...                                                ...   \n",
              "495         495  50146274  https://en.wikipedia.org/wiki/2016%E2%80%9317%...   \n",
              "496         496  57809290        https://en.wikipedia.org/wiki/CAINE%20Linux   \n",
              "497         497  10578490           https://en.wikipedia.org/wiki/Meat%20ant   \n",
              "498         498   2921616              https://en.wikipedia.org/wiki/Caradog   \n",
              "499         499   1311352  https://en.wikipedia.org/wiki/Wiener%20Blut%20...   \n",
              "\n",
              "                        title  \\\n",
              "0      Sexhow railway station   \n",
              "1                    Etiäinen   \n",
              "2    Inverse function theorem   \n",
              "3           Stepping on Roses   \n",
              "4                 Rob Bradley   \n",
              "..                        ...   \n",
              "495   2016–17 National League   \n",
              "496               CAINE Linux   \n",
              "497                  Meat ant   \n",
              "498                   Caradog   \n",
              "499       Wiener Blut (waltz)   \n",
              "\n",
              "                                            wiki_intro  \\\n",
              "0    Sexhow railway station was a railway station b...   \n",
              "1    In Finnish folklore, all places and things, an...   \n",
              "2    In mathematics, specifically differential calc...   \n",
              "3    is a Japanese shōjo manga series written and i...   \n",
              "4    Robert Milner \"Rob\" Bradley, Jr. (born August ...   \n",
              "..                                                 ...   \n",
              "495  The 2016–17 National League season, known as t...   \n",
              "496  CAINE Linux (Computer Aided INvestigative Envi...   \n",
              "497  The meat ant (Iridomyrmex purpureus), also kno...   \n",
              "498  Caradog, Caradoc, Caradawg, or Cradawg, Latini...   \n",
              "499  Wiener Blut  ('Viennese Blood', 'Vienna Blood'...   \n",
              "\n",
              "                                       generated_intro  title_len  \\\n",
              "0    Sexhow railway station was a railway station l...          3   \n",
              "1    In Finnish folklore, all places and things, an...          1   \n",
              "2    In mathematics, specifically differential calc...          3   \n",
              "3    is a Japanese shōjo manga series written and i...          3   \n",
              "4    Robert Milner \"Rob\" Bradley, Jr. (born August ...          2   \n",
              "..                                                 ...        ...   \n",
              "495  The 2016–17 National League season, known as t...          3   \n",
              "496  CAINE Linux (Computer Aided INvestigative Envi...          2   \n",
              "497  The meat ant (Iridomyrmex purpureus), also kno...          2   \n",
              "498  Caradog, Caradoc, Caradawg, or Cradawg, Latini...          1   \n",
              "499  Wiener Blut  ('Viennese Blood', 'Vienna Blood'...          3   \n",
              "\n",
              "     wiki_intro_len  generated_intro_len  \\\n",
              "0               174                   78   \n",
              "1               187                   80   \n",
              "2               170                   59   \n",
              "3               335                  121   \n",
              "4               170                  136   \n",
              "..              ...                  ...   \n",
              "495             164                  252   \n",
              "496             181                   96   \n",
              "497             271                   56   \n",
              "498             156                  172   \n",
              "499             178                   51   \n",
              "\n",
              "                                                prompt  \\\n",
              "0    200 word wikipedia style introduction on 'Sexh...   \n",
              "1    200 word wikipedia style introduction on 'Etiä...   \n",
              "2    200 word wikipedia style introduction on 'Inve...   \n",
              "3    200 word wikipedia style introduction on 'Step...   \n",
              "4    200 word wikipedia style introduction on 'Rob ...   \n",
              "..                                                 ...   \n",
              "495  200 word wikipedia style introduction on '2016...   \n",
              "496  200 word wikipedia style introduction on 'CAIN...   \n",
              "497  200 word wikipedia style introduction on 'Meat...   \n",
              "498  200 word wikipedia style introduction on 'Cara...   \n",
              "499  200 word wikipedia style introduction on 'Wien...   \n",
              "\n",
              "                                        generated_text  prompt_tokens  \\\n",
              "0     located in the town of Sexhow, on the Cumbria...             25   \n",
              "1     animate or inanimate, have a spirit or \"etiäi...             26   \n",
              "2     function theorem states that for every real-v...             26   \n",
              "3     and illustrated by Maki Fujii. The series fol...             26   \n",
              "4     29, 1973) is an American former professional ...             28   \n",
              "..                                                 ...            ...   \n",
              "495   the 108th season of professional baseball in ...             28   \n",
              "496   a Debian-based distribution that incorporates...             30   \n",
              "497   as the Australian meat ant, is a species of a...             31   \n",
              "498   Caratacus, Caratacus, or Caratacus (1st centu...             38   \n",
              "499   or 'Vienna Waltz') is a waltz composed in 189...             37   \n",
              "\n",
              "     generated_text_tokens  \n",
              "0                       88  \n",
              "1                      101  \n",
              "2                       65  \n",
              "3                      150  \n",
              "4                      162  \n",
              "..                     ...  \n",
              "495                    300  \n",
              "496                    119  \n",
              "497                     65  \n",
              "498                    229  \n",
              "499                     66  \n",
              "\n",
              "[500 rows x 13 columns]"
            ],
            "text/html": [
              "\n",
              "  <div id=\"df-4a9fd9d9-9046-453b-871f-2138c2266764\">\n",
              "    <div class=\"colab-df-container\">\n",
              "      <div>\n",
              "<style scoped>\n",
              "    .dataframe tbody tr th:only-of-type {\n",
              "        vertical-align: middle;\n",
              "    }\n",
              "\n",
              "    .dataframe tbody tr th {\n",
              "        vertical-align: top;\n",
              "    }\n",
              "\n",
              "    .dataframe thead th {\n",
              "        text-align: right;\n",
              "    }\n",
              "</style>\n",
              "<table border=\"1\" class=\"dataframe\">\n",
              "  <thead>\n",
              "    <tr style=\"text-align: right;\">\n",
              "      <th></th>\n",
              "      <th>Unnamed: 0</th>\n",
              "      <th>id</th>\n",
              "      <th>url</th>\n",
              "      <th>title</th>\n",
              "      <th>wiki_intro</th>\n",
              "      <th>generated_intro</th>\n",
              "      <th>title_len</th>\n",
              "      <th>wiki_intro_len</th>\n",
              "      <th>generated_intro_len</th>\n",
              "      <th>prompt</th>\n",
              "      <th>generated_text</th>\n",
              "      <th>prompt_tokens</th>\n",
              "      <th>generated_text_tokens</th>\n",
              "    </tr>\n",
              "  </thead>\n",
              "  <tbody>\n",
              "    <tr>\n",
              "      <th>0</th>\n",
              "      <td>0</td>\n",
              "      <td>63064638</td>\n",
              "      <td>https://en.wikipedia.org/wiki/Sexhow%20railway...</td>\n",
              "      <td>Sexhow railway station</td>\n",
              "      <td>Sexhow railway station was a railway station b...</td>\n",
              "      <td>Sexhow railway station was a railway station l...</td>\n",
              "      <td>3</td>\n",
              "      <td>174</td>\n",
              "      <td>78</td>\n",
              "      <td>200 word wikipedia style introduction on 'Sexh...</td>\n",
              "      <td>located in the town of Sexhow, on the Cumbria...</td>\n",
              "      <td>25</td>\n",
              "      <td>88</td>\n",
              "    </tr>\n",
              "    <tr>\n",
              "      <th>1</th>\n",
              "      <td>1</td>\n",
              "      <td>279621</td>\n",
              "      <td>https://en.wikipedia.org/wiki/Eti%C3%A4inen</td>\n",
              "      <td>Etiäinen</td>\n",
              "      <td>In Finnish folklore, all places and things, an...</td>\n",
              "      <td>In Finnish folklore, all places and things, an...</td>\n",
              "      <td>1</td>\n",
              "      <td>187</td>\n",
              "      <td>80</td>\n",
              "      <td>200 word wikipedia style introduction on 'Etiä...</td>\n",
              "      <td>animate or inanimate, have a spirit or \"etiäi...</td>\n",
              "      <td>26</td>\n",
              "      <td>101</td>\n",
              "    </tr>\n",
              "    <tr>\n",
              "      <th>2</th>\n",
              "      <td>2</td>\n",
              "      <td>287229</td>\n",
              "      <td>https://en.wikipedia.org/wiki/Inverse%20functi...</td>\n",
              "      <td>Inverse function theorem</td>\n",
              "      <td>In mathematics, specifically differential calc...</td>\n",
              "      <td>In mathematics, specifically differential calc...</td>\n",
              "      <td>3</td>\n",
              "      <td>170</td>\n",
              "      <td>59</td>\n",
              "      <td>200 word wikipedia style introduction on 'Inve...</td>\n",
              "      <td>function theorem states that for every real-v...</td>\n",
              "      <td>26</td>\n",
              "      <td>65</td>\n",
              "    </tr>\n",
              "    <tr>\n",
              "      <th>3</th>\n",
              "      <td>3</td>\n",
              "      <td>26712375</td>\n",
              "      <td>https://en.wikipedia.org/wiki/Stepping%20on%20...</td>\n",
              "      <td>Stepping on Roses</td>\n",
              "      <td>is a Japanese shōjo manga series written and i...</td>\n",
              "      <td>is a Japanese shōjo manga series written and i...</td>\n",
              "      <td>3</td>\n",
              "      <td>335</td>\n",
              "      <td>121</td>\n",
              "      <td>200 word wikipedia style introduction on 'Step...</td>\n",
              "      <td>and illustrated by Maki Fujii. The series fol...</td>\n",
              "      <td>26</td>\n",
              "      <td>150</td>\n",
              "    </tr>\n",
              "    <tr>\n",
              "      <th>4</th>\n",
              "      <td>4</td>\n",
              "      <td>38894426</td>\n",
              "      <td>https://en.wikipedia.org/wiki/Rob%20Bradley</td>\n",
              "      <td>Rob Bradley</td>\n",
              "      <td>Robert Milner \"Rob\" Bradley, Jr. (born August ...</td>\n",
              "      <td>Robert Milner \"Rob\" Bradley, Jr. (born August ...</td>\n",
              "      <td>2</td>\n",
              "      <td>170</td>\n",
              "      <td>136</td>\n",
              "      <td>200 word wikipedia style introduction on 'Rob ...</td>\n",
              "      <td>29, 1973) is an American former professional ...</td>\n",
              "      <td>28</td>\n",
              "      <td>162</td>\n",
              "    </tr>\n",
              "    <tr>\n",
              "      <th>...</th>\n",
              "      <td>...</td>\n",
              "      <td>...</td>\n",
              "      <td>...</td>\n",
              "      <td>...</td>\n",
              "      <td>...</td>\n",
              "      <td>...</td>\n",
              "      <td>...</td>\n",
              "      <td>...</td>\n",
              "      <td>...</td>\n",
              "      <td>...</td>\n",
              "      <td>...</td>\n",
              "      <td>...</td>\n",
              "      <td>...</td>\n",
              "    </tr>\n",
              "    <tr>\n",
              "      <th>495</th>\n",
              "      <td>495</td>\n",
              "      <td>50146274</td>\n",
              "      <td>https://en.wikipedia.org/wiki/2016%E2%80%9317%...</td>\n",
              "      <td>2016–17 National League</td>\n",
              "      <td>The 2016–17 National League season, known as t...</td>\n",
              "      <td>The 2016–17 National League season, known as t...</td>\n",
              "      <td>3</td>\n",
              "      <td>164</td>\n",
              "      <td>252</td>\n",
              "      <td>200 word wikipedia style introduction on '2016...</td>\n",
              "      <td>the 108th season of professional baseball in ...</td>\n",
              "      <td>28</td>\n",
              "      <td>300</td>\n",
              "    </tr>\n",
              "    <tr>\n",
              "      <th>496</th>\n",
              "      <td>496</td>\n",
              "      <td>57809290</td>\n",
              "      <td>https://en.wikipedia.org/wiki/CAINE%20Linux</td>\n",
              "      <td>CAINE Linux</td>\n",
              "      <td>CAINE Linux (Computer Aided INvestigative Envi...</td>\n",
              "      <td>CAINE Linux (Computer Aided INvestigative Envi...</td>\n",
              "      <td>2</td>\n",
              "      <td>181</td>\n",
              "      <td>96</td>\n",
              "      <td>200 word wikipedia style introduction on 'CAIN...</td>\n",
              "      <td>a Debian-based distribution that incorporates...</td>\n",
              "      <td>30</td>\n",
              "      <td>119</td>\n",
              "    </tr>\n",
              "    <tr>\n",
              "      <th>497</th>\n",
              "      <td>497</td>\n",
              "      <td>10578490</td>\n",
              "      <td>https://en.wikipedia.org/wiki/Meat%20ant</td>\n",
              "      <td>Meat ant</td>\n",
              "      <td>The meat ant (Iridomyrmex purpureus), also kno...</td>\n",
              "      <td>The meat ant (Iridomyrmex purpureus), also kno...</td>\n",
              "      <td>2</td>\n",
              "      <td>271</td>\n",
              "      <td>56</td>\n",
              "      <td>200 word wikipedia style introduction on 'Meat...</td>\n",
              "      <td>as the Australian meat ant, is a species of a...</td>\n",
              "      <td>31</td>\n",
              "      <td>65</td>\n",
              "    </tr>\n",
              "    <tr>\n",
              "      <th>498</th>\n",
              "      <td>498</td>\n",
              "      <td>2921616</td>\n",
              "      <td>https://en.wikipedia.org/wiki/Caradog</td>\n",
              "      <td>Caradog</td>\n",
              "      <td>Caradog, Caradoc, Caradawg, or Cradawg, Latini...</td>\n",
              "      <td>Caradog, Caradoc, Caradawg, or Cradawg, Latini...</td>\n",
              "      <td>1</td>\n",
              "      <td>156</td>\n",
              "      <td>172</td>\n",
              "      <td>200 word wikipedia style introduction on 'Cara...</td>\n",
              "      <td>Caratacus, Caratacus, or Caratacus (1st centu...</td>\n",
              "      <td>38</td>\n",
              "      <td>229</td>\n",
              "    </tr>\n",
              "    <tr>\n",
              "      <th>499</th>\n",
              "      <td>499</td>\n",
              "      <td>1311352</td>\n",
              "      <td>https://en.wikipedia.org/wiki/Wiener%20Blut%20...</td>\n",
              "      <td>Wiener Blut (waltz)</td>\n",
              "      <td>Wiener Blut  ('Viennese Blood', 'Vienna Blood'...</td>\n",
              "      <td>Wiener Blut  ('Viennese Blood', 'Vienna Blood'...</td>\n",
              "      <td>3</td>\n",
              "      <td>178</td>\n",
              "      <td>51</td>\n",
              "      <td>200 word wikipedia style introduction on 'Wien...</td>\n",
              "      <td>or 'Vienna Waltz') is a waltz composed in 189...</td>\n",
              "      <td>37</td>\n",
              "      <td>66</td>\n",
              "    </tr>\n",
              "  </tbody>\n",
              "</table>\n",
              "<p>500 rows × 13 columns</p>\n",
              "</div>\n",
              "      <button class=\"colab-df-convert\" onclick=\"convertToInteractive('df-4a9fd9d9-9046-453b-871f-2138c2266764')\"\n",
              "              title=\"Convert this dataframe to an interactive table.\"\n",
              "              style=\"display:none;\">\n",
              "        \n",
              "  <svg xmlns=\"http://www.w3.org/2000/svg\" height=\"24px\"viewBox=\"0 0 24 24\"\n",
              "       width=\"24px\">\n",
              "    <path d=\"M0 0h24v24H0V0z\" fill=\"none\"/>\n",
              "    <path d=\"M18.56 5.44l.94 2.06.94-2.06 2.06-.94-2.06-.94-.94-2.06-.94 2.06-2.06.94zm-11 1L8.5 8.5l.94-2.06 2.06-.94-2.06-.94L8.5 2.5l-.94 2.06-2.06.94zm10 10l.94 2.06.94-2.06 2.06-.94-2.06-.94-.94-2.06-.94 2.06-2.06.94z\"/><path d=\"M17.41 7.96l-1.37-1.37c-.4-.4-.92-.59-1.43-.59-.52 0-1.04.2-1.43.59L10.3 9.45l-7.72 7.72c-.78.78-.78 2.05 0 2.83L4 21.41c.39.39.9.59 1.41.59.51 0 1.02-.2 1.41-.59l7.78-7.78 2.81-2.81c.8-.78.8-2.07 0-2.86zM5.41 20L4 18.59l7.72-7.72 1.47 1.35L5.41 20z\"/>\n",
              "  </svg>\n",
              "      </button>\n",
              "      \n",
              "  <style>\n",
              "    .colab-df-container {\n",
              "      display:flex;\n",
              "      flex-wrap:wrap;\n",
              "      gap: 12px;\n",
              "    }\n",
              "\n",
              "    .colab-df-convert {\n",
              "      background-color: #E8F0FE;\n",
              "      border: none;\n",
              "      border-radius: 50%;\n",
              "      cursor: pointer;\n",
              "      display: none;\n",
              "      fill: #1967D2;\n",
              "      height: 32px;\n",
              "      padding: 0 0 0 0;\n",
              "      width: 32px;\n",
              "    }\n",
              "\n",
              "    .colab-df-convert:hover {\n",
              "      background-color: #E2EBFA;\n",
              "      box-shadow: 0px 1px 2px rgba(60, 64, 67, 0.3), 0px 1px 3px 1px rgba(60, 64, 67, 0.15);\n",
              "      fill: #174EA6;\n",
              "    }\n",
              "\n",
              "    [theme=dark] .colab-df-convert {\n",
              "      background-color: #3B4455;\n",
              "      fill: #D2E3FC;\n",
              "    }\n",
              "\n",
              "    [theme=dark] .colab-df-convert:hover {\n",
              "      background-color: #434B5C;\n",
              "      box-shadow: 0px 1px 3px 1px rgba(0, 0, 0, 0.15);\n",
              "      filter: drop-shadow(0px 1px 2px rgba(0, 0, 0, 0.3));\n",
              "      fill: #FFFFFF;\n",
              "    }\n",
              "  </style>\n",
              "\n",
              "      <script>\n",
              "        const buttonEl =\n",
              "          document.querySelector('#df-4a9fd9d9-9046-453b-871f-2138c2266764 button.colab-df-convert');\n",
              "        buttonEl.style.display =\n",
              "          google.colab.kernel.accessAllowed ? 'block' : 'none';\n",
              "\n",
              "        async function convertToInteractive(key) {\n",
              "          const element = document.querySelector('#df-4a9fd9d9-9046-453b-871f-2138c2266764');\n",
              "          const dataTable =\n",
              "            await google.colab.kernel.invokeFunction('convertToInteractive',\n",
              "                                                     [key], {});\n",
              "          if (!dataTable) return;\n",
              "\n",
              "          const docLinkHtml = 'Like what you see? Visit the ' +\n",
              "            '<a target=\"_blank\" href=https://colab.research.google.com/notebooks/data_table.ipynb>data table notebook</a>'\n",
              "            + ' to learn more about interactive tables.';\n",
              "          element.innerHTML = '';\n",
              "          dataTable['output_type'] = 'display_data';\n",
              "          await google.colab.output.renderOutput(dataTable, element);\n",
              "          const docLink = document.createElement('div');\n",
              "          docLink.innerHTML = docLinkHtml;\n",
              "          element.appendChild(docLink);\n",
              "        }\n",
              "      </script>\n",
              "    </div>\n",
              "  </div>\n",
              "  "
            ]
          },
          "metadata": {},
          "execution_count": 10
        }
      ]
    },
    {
      "cell_type": "code",
      "source": [
        "# Load model\n",
        "detector = Detector(device = \"cpu\")"
      ],
      "metadata": {
        "id": "27V774m_UaXk"
      },
      "execution_count": null,
      "outputs": []
    },
    {
      "cell_type": "code",
      "source": [],
      "metadata": {
        "id": "pHM_b7m0CfX3"
      },
      "execution_count": null,
      "outputs": []
    },
    {
      "cell_type": "code",
      "source": [
        "# Compute ppl for training set\n",
        "\n",
        "human_results = []\n",
        "human_ai_results = []\n",
        "ai_results = []\n",
        "\n",
        "for i, row in df.iterrows():\n",
        "  try:\n",
        "    human_result = detector.run(row[\"wiki_intro\"])\n",
        "    human_result['id'] = row['id']\n",
        "    human_results.append(human_result)\n",
        "\n",
        "    human_ai_result = detector.run(row[\"generated_intro\"])\n",
        "    human_ai_result['id'] = row['id']\n",
        "    human_ai_results.append(human_ai_result)\n",
        "\n",
        "    ai_result = detector.run(row[\"generated_text\"])\n",
        "    ai_result['id'] = row['id']\n",
        "    ai_results.append(ai_result)\n",
        "  except Exception as e:\n",
        "    print(i, e)\n",
        "    continue\n",
        "\n"
      ],
      "metadata": {
        "colab": {
          "base_uri": "https://localhost:8080/",
          "height": 416
        },
        "id": "hb0xgp0KvYIQ",
        "outputId": "3b7ad75a-5af4-45cf-ab94-7e458cdd66b0"
      },
      "execution_count": null,
      "outputs": [
        {
          "metadata": {
            "tags": null
          },
          "name": "stdout",
          "output_type": "stream",
          "text": [
            "113 variance requires at least two data points\n",
            "397 variance requires at least two data points\n"
          ]
        },
        {
          "output_type": "error",
          "ename": "KeyboardInterrupt",
          "evalue": "ignored",
          "traceback": [
            "\u001b[0;31m---------------------------------------------------------------------------\u001b[0m",
            "\u001b[0;31mKeyboardInterrupt\u001b[0m                         Traceback (most recent call last)",
            "\u001b[0;32m<ipython-input-19-46f887aecf0f>\u001b[0m in \u001b[0;36m<cell line: 7>\u001b[0;34m()\u001b[0m\n\u001b[1;32m     15\u001b[0m     \u001b[0mhuman_ai_results\u001b[0m\u001b[0;34m.\u001b[0m\u001b[0mappend\u001b[0m\u001b[0;34m(\u001b[0m\u001b[0mhuman_ai_result\u001b[0m\u001b[0;34m)\u001b[0m\u001b[0;34m\u001b[0m\u001b[0;34m\u001b[0m\u001b[0m\n\u001b[1;32m     16\u001b[0m \u001b[0;34m\u001b[0m\u001b[0m\n\u001b[0;32m---> 17\u001b[0;31m     \u001b[0mai_result\u001b[0m \u001b[0;34m=\u001b[0m \u001b[0mdetector\u001b[0m\u001b[0;34m.\u001b[0m\u001b[0mrun\u001b[0m\u001b[0;34m(\u001b[0m\u001b[0mrow\u001b[0m\u001b[0;34m[\u001b[0m\u001b[0;34m\"generated_text\"\u001b[0m\u001b[0;34m]\u001b[0m\u001b[0;34m)\u001b[0m\u001b[0;34m\u001b[0m\u001b[0;34m\u001b[0m\u001b[0m\n\u001b[0m\u001b[1;32m     18\u001b[0m     \u001b[0mai_result\u001b[0m\u001b[0;34m[\u001b[0m\u001b[0;34m'id'\u001b[0m\u001b[0;34m]\u001b[0m \u001b[0;34m=\u001b[0m \u001b[0mrow\u001b[0m\u001b[0;34m[\u001b[0m\u001b[0;34m'id'\u001b[0m\u001b[0;34m]\u001b[0m\u001b[0;34m\u001b[0m\u001b[0;34m\u001b[0m\u001b[0m\n\u001b[1;32m     19\u001b[0m     \u001b[0mai_results\u001b[0m\u001b[0;34m.\u001b[0m\u001b[0mappend\u001b[0m\u001b[0;34m(\u001b[0m\u001b[0mai_result\u001b[0m\u001b[0;34m)\u001b[0m\u001b[0;34m\u001b[0m\u001b[0;34m\u001b[0m\u001b[0m\n",
            "\u001b[0;32m<ipython-input-3-6eb65589fc77>\u001b[0m in \u001b[0;36mrun\u001b[0;34m(self, sentence)\u001b[0m\n\u001b[1;32m     64\u001b[0m \u001b[0;34m\u001b[0m\u001b[0m\n\u001b[1;32m     65\u001b[0m         \u001b[0;31m# compute ppl\u001b[0m\u001b[0;34m\u001b[0m\u001b[0;34m\u001b[0m\u001b[0m\n\u001b[0;32m---> 66\u001b[0;31m         \u001b[0mppl\u001b[0m\u001b[0;34m,\u001b[0m \u001b[0mnll\u001b[0m \u001b[0;34m=\u001b[0m \u001b[0mself\u001b[0m\u001b[0;34m.\u001b[0m\u001b[0mcompute_ppl\u001b[0m\u001b[0;34m(\u001b[0m\u001b[0mline\u001b[0m\u001b[0;34m)\u001b[0m\u001b[0;34m\u001b[0m\u001b[0;34m\u001b[0m\u001b[0m\n\u001b[0m\u001b[1;32m     67\u001b[0m         \u001b[0;32mif\u001b[0m \u001b[0;32mnot\u001b[0m \u001b[0mnp\u001b[0m\u001b[0;34m.\u001b[0m\u001b[0misnan\u001b[0m\u001b[0;34m(\u001b[0m\u001b[0mppl\u001b[0m\u001b[0;34m)\u001b[0m\u001b[0;34m.\u001b[0m\u001b[0many\u001b[0m\u001b[0;34m(\u001b[0m\u001b[0;34m)\u001b[0m \u001b[0;32mand\u001b[0m \u001b[0;32mnot\u001b[0m \u001b[0mnp\u001b[0m\u001b[0;34m.\u001b[0m\u001b[0misnan\u001b[0m\u001b[0;34m(\u001b[0m\u001b[0mnll\u001b[0m\u001b[0;34m)\u001b[0m\u001b[0;34m.\u001b[0m\u001b[0many\u001b[0m\u001b[0;34m(\u001b[0m\u001b[0;34m)\u001b[0m\u001b[0;34m:\u001b[0m\u001b[0;34m\u001b[0m\u001b[0;34m\u001b[0m\u001b[0m\n\u001b[1;32m     68\u001b[0m           \u001b[0mppl_per_line\u001b[0m\u001b[0;34m.\u001b[0m\u001b[0mappend\u001b[0m\u001b[0;34m(\u001b[0m\u001b[0mppl\u001b[0m\u001b[0;34m)\u001b[0m\u001b[0;34m\u001b[0m\u001b[0;34m\u001b[0m\u001b[0m\n",
            "\u001b[0;32m<ipython-input-3-6eb65589fc77>\u001b[0m in \u001b[0;36mcompute_ppl\u001b[0;34m(self, sentence)\u001b[0m\n\u001b[1;32m    102\u001b[0m \u001b[0;34m\u001b[0m\u001b[0m\n\u001b[1;32m    103\u001b[0m         \u001b[0;32mwith\u001b[0m \u001b[0mtorch\u001b[0m\u001b[0;34m.\u001b[0m\u001b[0mno_grad\u001b[0m\u001b[0;34m(\u001b[0m\u001b[0;34m)\u001b[0m\u001b[0;34m:\u001b[0m\u001b[0;34m\u001b[0m\u001b[0;34m\u001b[0m\u001b[0m\n\u001b[0;32m--> 104\u001b[0;31m             \u001b[0moutputs\u001b[0m \u001b[0;34m=\u001b[0m \u001b[0mself\u001b[0m\u001b[0;34m.\u001b[0m\u001b[0mmodel\u001b[0m\u001b[0;34m(\u001b[0m\u001b[0minput_ids\u001b[0m\u001b[0;34m,\u001b[0m \u001b[0mlabels\u001b[0m\u001b[0;34m=\u001b[0m\u001b[0mtarget_ids\u001b[0m\u001b[0;34m)\u001b[0m\u001b[0;34m\u001b[0m\u001b[0;34m\u001b[0m\u001b[0m\n\u001b[0m\u001b[1;32m    105\u001b[0m             \u001b[0mneg_log_likelihood\u001b[0m \u001b[0;34m=\u001b[0m \u001b[0moutputs\u001b[0m\u001b[0;34m.\u001b[0m\u001b[0mloss\u001b[0m \u001b[0;34m*\u001b[0m \u001b[0mtrg_len\u001b[0m\u001b[0;34m\u001b[0m\u001b[0;34m\u001b[0m\u001b[0m\n\u001b[1;32m    106\u001b[0m \u001b[0;34m\u001b[0m\u001b[0m\n",
            "\u001b[0;32m/usr/local/lib/python3.10/dist-packages/torch/nn/modules/module.py\u001b[0m in \u001b[0;36m_call_impl\u001b[0;34m(self, *args, **kwargs)\u001b[0m\n\u001b[1;32m   1499\u001b[0m                 \u001b[0;32mor\u001b[0m \u001b[0m_global_backward_pre_hooks\u001b[0m \u001b[0;32mor\u001b[0m \u001b[0m_global_backward_hooks\u001b[0m\u001b[0;34m\u001b[0m\u001b[0;34m\u001b[0m\u001b[0m\n\u001b[1;32m   1500\u001b[0m                 or _global_forward_hooks or _global_forward_pre_hooks):\n\u001b[0;32m-> 1501\u001b[0;31m             \u001b[0;32mreturn\u001b[0m \u001b[0mforward_call\u001b[0m\u001b[0;34m(\u001b[0m\u001b[0;34m*\u001b[0m\u001b[0margs\u001b[0m\u001b[0;34m,\u001b[0m \u001b[0;34m**\u001b[0m\u001b[0mkwargs\u001b[0m\u001b[0;34m)\u001b[0m\u001b[0;34m\u001b[0m\u001b[0;34m\u001b[0m\u001b[0m\n\u001b[0m\u001b[1;32m   1502\u001b[0m         \u001b[0;31m# Do not call functions when jit is used\u001b[0m\u001b[0;34m\u001b[0m\u001b[0;34m\u001b[0m\u001b[0m\n\u001b[1;32m   1503\u001b[0m         \u001b[0mfull_backward_hooks\u001b[0m\u001b[0;34m,\u001b[0m \u001b[0mnon_full_backward_hooks\u001b[0m \u001b[0;34m=\u001b[0m \u001b[0;34m[\u001b[0m\u001b[0;34m]\u001b[0m\u001b[0;34m,\u001b[0m \u001b[0;34m[\u001b[0m\u001b[0;34m]\u001b[0m\u001b[0;34m\u001b[0m\u001b[0;34m\u001b[0m\u001b[0m\n",
            "\u001b[0;32m/usr/local/lib/python3.10/dist-packages/transformers/models/gpt2/modeling_gpt2.py\u001b[0m in \u001b[0;36mforward\u001b[0;34m(self, input_ids, past_key_values, attention_mask, token_type_ids, position_ids, head_mask, inputs_embeds, encoder_hidden_states, encoder_attention_mask, labels, use_cache, output_attentions, output_hidden_states, return_dict)\u001b[0m\n\u001b[1;32m   1041\u001b[0m         \u001b[0mreturn_dict\u001b[0m \u001b[0;34m=\u001b[0m \u001b[0mreturn_dict\u001b[0m \u001b[0;32mif\u001b[0m \u001b[0mreturn_dict\u001b[0m \u001b[0;32mis\u001b[0m \u001b[0;32mnot\u001b[0m \u001b[0;32mNone\u001b[0m \u001b[0;32melse\u001b[0m \u001b[0mself\u001b[0m\u001b[0;34m.\u001b[0m\u001b[0mconfig\u001b[0m\u001b[0;34m.\u001b[0m\u001b[0muse_return_dict\u001b[0m\u001b[0;34m\u001b[0m\u001b[0;34m\u001b[0m\u001b[0m\n\u001b[1;32m   1042\u001b[0m \u001b[0;34m\u001b[0m\u001b[0m\n\u001b[0;32m-> 1043\u001b[0;31m         transformer_outputs = self.transformer(\n\u001b[0m\u001b[1;32m   1044\u001b[0m             \u001b[0minput_ids\u001b[0m\u001b[0;34m,\u001b[0m\u001b[0;34m\u001b[0m\u001b[0;34m\u001b[0m\u001b[0m\n\u001b[1;32m   1045\u001b[0m             \u001b[0mpast_key_values\u001b[0m\u001b[0;34m=\u001b[0m\u001b[0mpast_key_values\u001b[0m\u001b[0;34m,\u001b[0m\u001b[0;34m\u001b[0m\u001b[0;34m\u001b[0m\u001b[0m\n",
            "\u001b[0;32m/usr/local/lib/python3.10/dist-packages/torch/nn/modules/module.py\u001b[0m in \u001b[0;36m_call_impl\u001b[0;34m(self, *args, **kwargs)\u001b[0m\n\u001b[1;32m   1499\u001b[0m                 \u001b[0;32mor\u001b[0m \u001b[0m_global_backward_pre_hooks\u001b[0m \u001b[0;32mor\u001b[0m \u001b[0m_global_backward_hooks\u001b[0m\u001b[0;34m\u001b[0m\u001b[0;34m\u001b[0m\u001b[0m\n\u001b[1;32m   1500\u001b[0m                 or _global_forward_hooks or _global_forward_pre_hooks):\n\u001b[0;32m-> 1501\u001b[0;31m             \u001b[0;32mreturn\u001b[0m \u001b[0mforward_call\u001b[0m\u001b[0;34m(\u001b[0m\u001b[0;34m*\u001b[0m\u001b[0margs\u001b[0m\u001b[0;34m,\u001b[0m \u001b[0;34m**\u001b[0m\u001b[0mkwargs\u001b[0m\u001b[0;34m)\u001b[0m\u001b[0;34m\u001b[0m\u001b[0;34m\u001b[0m\u001b[0m\n\u001b[0m\u001b[1;32m   1502\u001b[0m         \u001b[0;31m# Do not call functions when jit is used\u001b[0m\u001b[0;34m\u001b[0m\u001b[0;34m\u001b[0m\u001b[0m\n\u001b[1;32m   1503\u001b[0m         \u001b[0mfull_backward_hooks\u001b[0m\u001b[0;34m,\u001b[0m \u001b[0mnon_full_backward_hooks\u001b[0m \u001b[0;34m=\u001b[0m \u001b[0;34m[\u001b[0m\u001b[0;34m]\u001b[0m\u001b[0;34m,\u001b[0m \u001b[0;34m[\u001b[0m\u001b[0;34m]\u001b[0m\u001b[0;34m\u001b[0m\u001b[0;34m\u001b[0m\u001b[0m\n",
            "\u001b[0;32m/usr/local/lib/python3.10/dist-packages/transformers/models/gpt2/modeling_gpt2.py\u001b[0m in \u001b[0;36mforward\u001b[0;34m(self, input_ids, past_key_values, attention_mask, token_type_ids, position_ids, head_mask, inputs_embeds, encoder_hidden_states, encoder_attention_mask, use_cache, output_attentions, output_hidden_states, return_dict)\u001b[0m\n\u001b[1;32m    885\u001b[0m                 )\n\u001b[1;32m    886\u001b[0m             \u001b[0;32melse\u001b[0m\u001b[0;34m:\u001b[0m\u001b[0;34m\u001b[0m\u001b[0;34m\u001b[0m\u001b[0m\n\u001b[0;32m--> 887\u001b[0;31m                 outputs = block(\n\u001b[0m\u001b[1;32m    888\u001b[0m                     \u001b[0mhidden_states\u001b[0m\u001b[0;34m,\u001b[0m\u001b[0;34m\u001b[0m\u001b[0;34m\u001b[0m\u001b[0m\n\u001b[1;32m    889\u001b[0m                     \u001b[0mlayer_past\u001b[0m\u001b[0;34m=\u001b[0m\u001b[0mlayer_past\u001b[0m\u001b[0;34m,\u001b[0m\u001b[0;34m\u001b[0m\u001b[0;34m\u001b[0m\u001b[0m\n",
            "\u001b[0;32m/usr/local/lib/python3.10/dist-packages/torch/nn/modules/module.py\u001b[0m in \u001b[0;36m_call_impl\u001b[0;34m(self, *args, **kwargs)\u001b[0m\n\u001b[1;32m   1499\u001b[0m                 \u001b[0;32mor\u001b[0m \u001b[0m_global_backward_pre_hooks\u001b[0m \u001b[0;32mor\u001b[0m \u001b[0m_global_backward_hooks\u001b[0m\u001b[0;34m\u001b[0m\u001b[0;34m\u001b[0m\u001b[0m\n\u001b[1;32m   1500\u001b[0m                 or _global_forward_hooks or _global_forward_pre_hooks):\n\u001b[0;32m-> 1501\u001b[0;31m             \u001b[0;32mreturn\u001b[0m \u001b[0mforward_call\u001b[0m\u001b[0;34m(\u001b[0m\u001b[0;34m*\u001b[0m\u001b[0margs\u001b[0m\u001b[0;34m,\u001b[0m \u001b[0;34m**\u001b[0m\u001b[0mkwargs\u001b[0m\u001b[0;34m)\u001b[0m\u001b[0;34m\u001b[0m\u001b[0;34m\u001b[0m\u001b[0m\n\u001b[0m\u001b[1;32m   1502\u001b[0m         \u001b[0;31m# Do not call functions when jit is used\u001b[0m\u001b[0;34m\u001b[0m\u001b[0;34m\u001b[0m\u001b[0m\n\u001b[1;32m   1503\u001b[0m         \u001b[0mfull_backward_hooks\u001b[0m\u001b[0;34m,\u001b[0m \u001b[0mnon_full_backward_hooks\u001b[0m \u001b[0;34m=\u001b[0m \u001b[0;34m[\u001b[0m\u001b[0;34m]\u001b[0m\u001b[0;34m,\u001b[0m \u001b[0;34m[\u001b[0m\u001b[0;34m]\u001b[0m\u001b[0;34m\u001b[0m\u001b[0;34m\u001b[0m\u001b[0m\n",
            "\u001b[0;32m/usr/local/lib/python3.10/dist-packages/transformers/models/gpt2/modeling_gpt2.py\u001b[0m in \u001b[0;36mforward\u001b[0;34m(self, hidden_states, layer_past, attention_mask, head_mask, encoder_hidden_states, encoder_attention_mask, use_cache, output_attentions)\u001b[0m\n\u001b[1;32m    423\u001b[0m         \u001b[0mresidual\u001b[0m \u001b[0;34m=\u001b[0m \u001b[0mhidden_states\u001b[0m\u001b[0;34m\u001b[0m\u001b[0;34m\u001b[0m\u001b[0m\n\u001b[1;32m    424\u001b[0m         \u001b[0mhidden_states\u001b[0m \u001b[0;34m=\u001b[0m \u001b[0mself\u001b[0m\u001b[0;34m.\u001b[0m\u001b[0mln_2\u001b[0m\u001b[0;34m(\u001b[0m\u001b[0mhidden_states\u001b[0m\u001b[0;34m)\u001b[0m\u001b[0;34m\u001b[0m\u001b[0;34m\u001b[0m\u001b[0m\n\u001b[0;32m--> 425\u001b[0;31m         \u001b[0mfeed_forward_hidden_states\u001b[0m \u001b[0;34m=\u001b[0m \u001b[0mself\u001b[0m\u001b[0;34m.\u001b[0m\u001b[0mmlp\u001b[0m\u001b[0;34m(\u001b[0m\u001b[0mhidden_states\u001b[0m\u001b[0;34m)\u001b[0m\u001b[0;34m\u001b[0m\u001b[0;34m\u001b[0m\u001b[0m\n\u001b[0m\u001b[1;32m    426\u001b[0m         \u001b[0;31m# residual connection\u001b[0m\u001b[0;34m\u001b[0m\u001b[0;34m\u001b[0m\u001b[0m\n\u001b[1;32m    427\u001b[0m         \u001b[0mhidden_states\u001b[0m \u001b[0;34m=\u001b[0m \u001b[0mresidual\u001b[0m \u001b[0;34m+\u001b[0m \u001b[0mfeed_forward_hidden_states\u001b[0m\u001b[0;34m\u001b[0m\u001b[0;34m\u001b[0m\u001b[0m\n",
            "\u001b[0;32m/usr/local/lib/python3.10/dist-packages/torch/nn/modules/module.py\u001b[0m in \u001b[0;36m_call_impl\u001b[0;34m(self, *args, **kwargs)\u001b[0m\n\u001b[1;32m   1499\u001b[0m                 \u001b[0;32mor\u001b[0m \u001b[0m_global_backward_pre_hooks\u001b[0m \u001b[0;32mor\u001b[0m \u001b[0m_global_backward_hooks\u001b[0m\u001b[0;34m\u001b[0m\u001b[0;34m\u001b[0m\u001b[0m\n\u001b[1;32m   1500\u001b[0m                 or _global_forward_hooks or _global_forward_pre_hooks):\n\u001b[0;32m-> 1501\u001b[0;31m             \u001b[0;32mreturn\u001b[0m \u001b[0mforward_call\u001b[0m\u001b[0;34m(\u001b[0m\u001b[0;34m*\u001b[0m\u001b[0margs\u001b[0m\u001b[0;34m,\u001b[0m \u001b[0;34m**\u001b[0m\u001b[0mkwargs\u001b[0m\u001b[0;34m)\u001b[0m\u001b[0;34m\u001b[0m\u001b[0;34m\u001b[0m\u001b[0m\n\u001b[0m\u001b[1;32m   1502\u001b[0m         \u001b[0;31m# Do not call functions when jit is used\u001b[0m\u001b[0;34m\u001b[0m\u001b[0;34m\u001b[0m\u001b[0m\n\u001b[1;32m   1503\u001b[0m         \u001b[0mfull_backward_hooks\u001b[0m\u001b[0;34m,\u001b[0m \u001b[0mnon_full_backward_hooks\u001b[0m \u001b[0;34m=\u001b[0m \u001b[0;34m[\u001b[0m\u001b[0;34m]\u001b[0m\u001b[0;34m,\u001b[0m \u001b[0;34m[\u001b[0m\u001b[0;34m]\u001b[0m\u001b[0;34m\u001b[0m\u001b[0;34m\u001b[0m\u001b[0m\n",
            "\u001b[0;32m/usr/local/lib/python3.10/dist-packages/transformers/models/gpt2/modeling_gpt2.py\u001b[0m in \u001b[0;36mforward\u001b[0;34m(self, hidden_states)\u001b[0m\n\u001b[1;32m    351\u001b[0m     \u001b[0;32mdef\u001b[0m \u001b[0mforward\u001b[0m\u001b[0;34m(\u001b[0m\u001b[0mself\u001b[0m\u001b[0;34m,\u001b[0m \u001b[0mhidden_states\u001b[0m\u001b[0;34m:\u001b[0m \u001b[0mOptional\u001b[0m\u001b[0;34m[\u001b[0m\u001b[0mTuple\u001b[0m\u001b[0;34m[\u001b[0m\u001b[0mtorch\u001b[0m\u001b[0;34m.\u001b[0m\u001b[0mFloatTensor\u001b[0m\u001b[0;34m]\u001b[0m\u001b[0;34m]\u001b[0m\u001b[0;34m)\u001b[0m \u001b[0;34m->\u001b[0m \u001b[0mtorch\u001b[0m\u001b[0;34m.\u001b[0m\u001b[0mFloatTensor\u001b[0m\u001b[0;34m:\u001b[0m\u001b[0;34m\u001b[0m\u001b[0;34m\u001b[0m\u001b[0m\n\u001b[1;32m    352\u001b[0m         \u001b[0mhidden_states\u001b[0m \u001b[0;34m=\u001b[0m \u001b[0mself\u001b[0m\u001b[0;34m.\u001b[0m\u001b[0mc_fc\u001b[0m\u001b[0;34m(\u001b[0m\u001b[0mhidden_states\u001b[0m\u001b[0;34m)\u001b[0m\u001b[0;34m\u001b[0m\u001b[0;34m\u001b[0m\u001b[0m\n\u001b[0;32m--> 353\u001b[0;31m         \u001b[0mhidden_states\u001b[0m \u001b[0;34m=\u001b[0m \u001b[0mself\u001b[0m\u001b[0;34m.\u001b[0m\u001b[0mact\u001b[0m\u001b[0;34m(\u001b[0m\u001b[0mhidden_states\u001b[0m\u001b[0;34m)\u001b[0m\u001b[0;34m\u001b[0m\u001b[0;34m\u001b[0m\u001b[0m\n\u001b[0m\u001b[1;32m    354\u001b[0m         \u001b[0mhidden_states\u001b[0m \u001b[0;34m=\u001b[0m \u001b[0mself\u001b[0m\u001b[0;34m.\u001b[0m\u001b[0mc_proj\u001b[0m\u001b[0;34m(\u001b[0m\u001b[0mhidden_states\u001b[0m\u001b[0;34m)\u001b[0m\u001b[0;34m\u001b[0m\u001b[0;34m\u001b[0m\u001b[0m\n\u001b[1;32m    355\u001b[0m         \u001b[0mhidden_states\u001b[0m \u001b[0;34m=\u001b[0m \u001b[0mself\u001b[0m\u001b[0;34m.\u001b[0m\u001b[0mdropout\u001b[0m\u001b[0;34m(\u001b[0m\u001b[0mhidden_states\u001b[0m\u001b[0;34m)\u001b[0m\u001b[0;34m\u001b[0m\u001b[0;34m\u001b[0m\u001b[0m\n",
            "\u001b[0;32m/usr/local/lib/python3.10/dist-packages/torch/nn/modules/module.py\u001b[0m in \u001b[0;36m_call_impl\u001b[0;34m(self, *args, **kwargs)\u001b[0m\n\u001b[1;32m   1499\u001b[0m                 \u001b[0;32mor\u001b[0m \u001b[0m_global_backward_pre_hooks\u001b[0m \u001b[0;32mor\u001b[0m \u001b[0m_global_backward_hooks\u001b[0m\u001b[0;34m\u001b[0m\u001b[0;34m\u001b[0m\u001b[0m\n\u001b[1;32m   1500\u001b[0m                 or _global_forward_hooks or _global_forward_pre_hooks):\n\u001b[0;32m-> 1501\u001b[0;31m             \u001b[0;32mreturn\u001b[0m \u001b[0mforward_call\u001b[0m\u001b[0;34m(\u001b[0m\u001b[0;34m*\u001b[0m\u001b[0margs\u001b[0m\u001b[0;34m,\u001b[0m \u001b[0;34m**\u001b[0m\u001b[0mkwargs\u001b[0m\u001b[0;34m)\u001b[0m\u001b[0;34m\u001b[0m\u001b[0;34m\u001b[0m\u001b[0m\n\u001b[0m\u001b[1;32m   1502\u001b[0m         \u001b[0;31m# Do not call functions when jit is used\u001b[0m\u001b[0;34m\u001b[0m\u001b[0;34m\u001b[0m\u001b[0m\n\u001b[1;32m   1503\u001b[0m         \u001b[0mfull_backward_hooks\u001b[0m\u001b[0;34m,\u001b[0m \u001b[0mnon_full_backward_hooks\u001b[0m \u001b[0;34m=\u001b[0m \u001b[0;34m[\u001b[0m\u001b[0;34m]\u001b[0m\u001b[0;34m,\u001b[0m \u001b[0;34m[\u001b[0m\u001b[0;34m]\u001b[0m\u001b[0;34m\u001b[0m\u001b[0;34m\u001b[0m\u001b[0m\n",
            "\u001b[0;31mKeyboardInterrupt\u001b[0m: "
          ]
        }
      ]
    },
    {
      "cell_type": "code",
      "source": [
        "human_df = pd.DataFrame(human_results)\n",
        "human_df.to_csv(\"human_df.csv\")"
      ],
      "metadata": {
        "id": "XaDgUb0jxY5s"
      },
      "execution_count": null,
      "outputs": []
    },
    {
      "cell_type": "code",
      "source": [
        "human_ai_df = pd.DataFrame(human_ai_results)\n",
        "human_ai_df.to_csv(\"human_ai_df.csv\")"
      ],
      "metadata": {
        "id": "9TkLhZjJUsAG"
      },
      "execution_count": null,
      "outputs": []
    },
    {
      "cell_type": "code",
      "source": [
        "ai_df = pd.DataFrame(ai_results)\n",
        "ai_df.to_csv(\"ai_df.csv\")"
      ],
      "metadata": {
        "id": "c_ra5pblUr2L"
      },
      "execution_count": null,
      "outputs": []
    },
    {
      "cell_type": "code",
      "source": [],
      "metadata": {
        "id": "QzX-Syqu4lcr"
      },
      "execution_count": null,
      "outputs": []
    },
    {
      "cell_type": "code",
      "source": [
        "import numpy as np\n",
        "\n",
        "def remove_outliers(data, threshold=3):\n",
        "    \"\"\"\n",
        "    Removes outliers from a list of data using the z-score method.\n",
        "\n",
        "    Args:\n",
        "        data (list): List of numeric data.\n",
        "        threshold (float): Number of standard deviations from the mean to consider as an outlier.\n",
        "\n",
        "    Returns:\n",
        "        list: List with outliers removed.\n",
        "    \"\"\"\n",
        "    mean = np.mean(data)\n",
        "    std = np.std(data)\n",
        "    z_scores = [(x - mean) / std for x in data]\n",
        "    filtered_data = [x for x, z in zip(data, z_scores) if abs(z) <= threshold]\n",
        "    return filtered_data\n",
        "\n",
        "\n",
        "human_scores = remove_outliers([score for score in human_df[\"Average Perplexity Score\"] if score < 300])\n",
        "human_ai_scores = remove_outliers([score for score in human_ai_df[\"Average Perplexity Score\"] if score < 300])\n",
        "ai_scores = remove_outliers([score for score in ai_df[\"Average Perplexity Score\"] if score < 300])\n",
        "\n",
        "sum(human_scores) / len(human_scores), sum(human_ai_scores) / len(human_ai_scores), sum(ai_scores) / len(ai_scores)"
      ],
      "metadata": {
        "colab": {
          "base_uri": "https://localhost:8080/"
        },
        "id": "Vl_vIaggiMxB",
        "outputId": "c5821e15-443c-4694-9663-e271a0cb0278"
      },
      "execution_count": null,
      "outputs": [
        {
          "output_type": "execute_result",
          "data": {
            "text/plain": [
              "(110.08513991284433, 44.59101563141125, 46.6814587693143)"
            ]
          },
          "metadata": {},
          "execution_count": 82
        }
      ]
    },
    {
      "cell_type": "code",
      "source": [
        "import matplotlib.pyplot as plt\n",
        "plt.hist(human_scores, bins=15, alpha=0.5, label = \"human_scores\")\n",
        "plt.hist(human_ai_scores, bins=15, alpha=0.5, label = \"human_ai_scores\")\n",
        "plt.hist(ai_scores, bins=15, alpha=0.5, label = \"ai_scores\")\n",
        "plt.xlabel('Preplexity Scores')\n",
        "plt.ylabel('Frequency')\n",
        "plt.title('Distribution of Preplexity')\n",
        "plt.legend()\n",
        "plt.show()\n"
      ],
      "metadata": {
        "id": "G87AEdcCIDVT",
        "outputId": "2fd7e07b-d8a3-4f24-87f7-31825d6f7fbc",
        "colab": {
          "base_uri": "https://localhost:8080/",
          "height": 472
        }
      },
      "execution_count": null,
      "outputs": [
        {
          "output_type": "display_data",
          "data": {
            "text/plain": [
              "<Figure size 640x480 with 1 Axes>"
            ],
            "image/png": "[encoded data removed]"
          },
          "metadata": {}
        }
      ]
    },
    {
      "cell_type": "code",
      "source": [
        "data = [human_scores, human_ai_scores, ai_scores]\n",
        "\n",
        "# Create a figure and axis object\n",
        "fig, ax = plt.subplots()\n",
        "\n",
        "# Create the box plot\n",
        "ax.boxplot(data, showfliers=False)\n",
        "\n",
        "# Customize the plot\n",
        "ax.set_xticklabels(['human_scores', 'human_ai_scores', 'ai_scores'])  # Set x-axis labels\n",
        "ax.set_ylabel('Preplexity scores')  # Set y-axis label\n",
        "ax.set_title('Comparison of Preplexity Distributions')  # Set title\n",
        "\n",
        "# Show the plot\n",
        "plt.show()\n"
      ],
      "metadata": {
        "colab": {
          "base_uri": "https://localhost:8080/",
          "height": 452
        },
        "id": "5sMFpjmAWXUT",
        "outputId": "117c2fb2-3350-4004-f20e-15ccf91e07ec"
      },
      "execution_count": null,
      "outputs": [
        {
          "output_type": "display_data",
          "data": {
            "text/plain": [
              "<Figure size 640x480 with 1 Axes>"
            ],
            "image/png": "[encoded data removed]"
          },
          "metadata": {}
        }
      ]
    },
    {
      "cell_type": "code",
      "source": [
        "# score < threshold ->  AI\n",
        "# score > threshold -> human\n",
        "\n",
        "# TP = AI classified as AI\n",
        "# FN = AI classified as human\n",
        "# FP = Human classified as AI\n",
        "# TN = Human classified as Human\n",
        "\n",
        "# precision = TP / (TP + FP)\n",
        "# recall =  TP / (TP + FN)\n"
      ],
      "metadata": {
        "id": "eI2kxeQhlsgK"
      },
      "execution_count": null,
      "outputs": []
    },
    {
      "cell_type": "code",
      "source": [
        "import numpy as np\n",
        "import matplotlib.pyplot as plt\n",
        "\n",
        "def evaluate_threshold(human_scores, ai_scores, threshold):\n",
        "    human_scores = np.array(human_scores)\n",
        "    ai_scores = np.array(ai_scores)\n",
        "\n",
        "    true_positive = np.sum(ai_scores < threshold)\n",
        "    false_positive = np.sum(human_scores < threshold)\n",
        "    false_nagative = np.sum(ai_scores > threshold)\n",
        "\n",
        "    precision = true_positive / (true_positive + false_positive)\n",
        "    recall = true_positive / (true_positive + false_nagative)\n",
        "\n",
        "    return precision, recall\n",
        "\n",
        "def plot_evaluation(human_scores, ai_scores):\n",
        "    thresholds = np.linspace(min(human_scores), max(ai_scores), num=100)  # Generate a range of thresholds\n",
        "    precisions = []\n",
        "    recalls = []\n",
        "\n",
        "    for threshold in thresholds:\n",
        "        precision, recall = evaluate_threshold(human_scores, ai_scores, threshold)\n",
        "        precisions.append(precision)\n",
        "        recalls.append(recall)\n",
        "\n",
        "    plt.plot(thresholds, precisions, label='Precision')\n",
        "    plt.plot(thresholds, recalls, label='Recall')\n",
        "    plt.xlabel('Threshold')\n",
        "    plt.ylabel('Score')\n",
        "    plt.title('Precision and Recall for Different Thresholds')\n",
        "    plt.legend()\n",
        "    plt.show()\n",
        "\n",
        "plot_evaluation(human_scores, ai_scores)"
      ],
      "metadata": {
        "id": "eu-Nglrqlscn",
        "colab": {
          "base_uri": "https://localhost:8080/",
          "height": 472
        },
        "outputId": "7f79666f-6f46-487b-82c2-2809c628681d"
      },
      "execution_count": null,
      "outputs": [
        {
          "output_type": "display_data",
          "data": {
            "text/plain": [
              "<Figure size 640x480 with 1 Axes>"
            ],
            "image/png": "[encoded data removed]"
          },
          "metadata": {}
        }
      ]
    },
    {
      "cell_type": "code",
      "source": [
        "threshold = 30\n",
        "precision, recall = evaluate_threshold(human_scores, ai_scores, threshold)\n",
        "print(f\"Precision: {precision:.2f}, Recall: {recall:.2f}\")\n",
        "\n",
        "true_positive = np.sum(np.array(ai_scores) < threshold) / len(ai_scores)\n",
        "false_positive = np.sum(np.array(human_scores) < threshold) / len(human_scores)\n",
        "false_nagative = np.sum(np.array(ai_scores) > threshold) / len(ai_scores)\n",
        "true_negative = np.sum(np.array(human_scores) > threshold) / len(human_scores)\n",
        "\n",
        "print(f\"(FP) {false_positive:.2f} Human as AI\")\n",
        "print(f\"(FN) {false_nagative:.2f} AI as Human\")"
      ],
      "metadata": {
        "colab": {
          "base_uri": "https://localhost:8080/"
        },
        "id": "YpZNA1gGwrHo",
        "outputId": "b960f285-d35a-4abe-bb84-a8e0b445a60e"
      },
      "execution_count": null,
      "outputs": [
        {
          "output_type": "stream",
          "name": "stdout",
          "text": [
            "Precision: 0.99, Recall: 0.28\n",
            "(FP) 0.01 Human as AI\n",
            "(FN) 0.72 AI as Human\n"
          ]
        }
      ]
    },
    {
      "cell_type": "code",
      "source": [
        "threshold = 40\n",
        "precision, recall = evaluate_threshold(human_scores, ai_scores, threshold)\n",
        "print(f\"Precision: {precision:.2f}, Recall: {recall:.2f}\")\n",
        "\n",
        "true_positive = np.sum(np.array(ai_scores) < threshold) / len(ai_scores)\n",
        "false_positive = np.sum(np.array(human_scores) < threshold) / len(human_scores)\n",
        "false_nagative = np.sum(np.array(ai_scores) > threshold) / len(ai_scores)\n",
        "true_negative = np.sum(np.array(human_scores) > threshold) / len(human_scores)\n",
        "\n",
        "print(f\"(FP) {false_positive:.2f} Human as AI\")\n",
        "print(f\"(FN) {false_nagative:.2f} AI as Human\")"
      ],
      "metadata": {
        "colab": {
          "base_uri": "https://localhost:8080/"
        },
        "id": "ZFIKEGJ_7epy",
        "outputId": "4ecbdb32-a11d-473c-fe3e-7a3d4017cdff"
      },
      "execution_count": null,
      "outputs": [
        {
          "output_type": "stream",
          "name": "stdout",
          "text": [
            "Precision: 0.93, Recall: 0.52\n",
            "(FP) 0.05 Human as AI\n",
            "(FN) 0.48 AI as Human\n"
          ]
        }
      ]
    },
    {
      "cell_type": "code",
      "source": [
        "threshold = 63.5\n",
        "precision, recall = evaluate_threshold(human_scores, ai_scores, threshold)\n",
        "print(f\"Precision: {precision:.2f}, Recall: {recall:.2f}\")\n",
        "\n",
        "true_positive = np.sum(np.array(ai_scores) < threshold) / len(ai_scores)\n",
        "false_positive = np.sum(np.array(human_scores) < threshold) / len(human_scores)\n",
        "false_nagative = np.sum(np.array(ai_scores) > threshold) / len(ai_scores)\n",
        "true_negative = np.sum(np.array(human_scores) > threshold) / len(human_scores)\n",
        "\n",
        "print(f\"(FP) {false_positive:.2f} Human as AI\")\n",
        "print(f\"(FN) {false_nagative:.2f} AI as Human\")"
      ],
      "metadata": {
        "colab": {
          "base_uri": "https://localhost:8080/"
        },
        "id": "-WniKMUX44hE",
        "outputId": "4cf89819-e9f9-43e0-b0e7-f1b278fd81ae"
      },
      "execution_count": null,
      "outputs": [
        {
          "output_type": "stream",
          "name": "stdout",
          "text": [
            "Precision: 0.79, Recall: 0.79\n",
            "(FP) 0.25 Human as AI\n",
            "(FN) 0.21 AI as Human\n"
          ]
        }
      ]
    },
    {
      "cell_type": "code",
      "source": [],
      "metadata": {
        "id": "1WOvV96o7caC"
      },
      "execution_count": null,
      "outputs": []
    }
  ]
}